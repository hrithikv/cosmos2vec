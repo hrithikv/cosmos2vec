import pandas as pd
data = pd.read_csv('final.csv')

import tensorflow as tf
tf.test.gpu_device_name()

import gensim.models.word2vec as wv

vectors = wv.Word2Vec(X_train,
                     size = vocab_size,
                     workers =n_workers,
                     window = context,
                     min_count = min_counts,
                     sample = down_sample)

from keras.utils import to_categorical
Y = to_categorical(data.rating)

from sklearn.model_selection import train_test_split
X_train, X_test, Y_train, y_test = train_test_split(corpus,Y, test_size = 0.20, random_state = 123)

from keras.models import Sequential
from keras.layers import Dense
from keras import layers
from keras import regularizers

from sklearn.metrics import accuracy_score
from sklearn.metrics import confusion_matrix

classifier = Sequential()
cm = confusion_matrix(y_test,y_pred)
print(accuracy_score(y_test, y_pred))

y_pred = classifier.predict(X_test)

y_pred = np.argmax(y_pred,axis = 1)
y_test = np.argmax(y_test,axis = 1)
