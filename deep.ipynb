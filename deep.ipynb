import pandas as pd
data = pd.read_csv('final.csv')

import tensorflow as tf
tf.test.gpu_device_name()

def getVectors(corpus,vectors,size):
    wordset = set(vectors.wv.index2word) #Checks if the word is in the Word2vec corpus 
    vec = []
    counter = 0
    for words in corpus:    
        featureVec = np.zeros(size,dtype="object")
        for word in words:
            if word in wordset:
                featureVec = np.add(featureVec,vectors[word])
        vec.append(featureVec.T)
        counter = counter + 1
        #print(counter)
    return vec

import numpy as np

X_train = getVectors(X_train,vectors,vocab_size)
X_test = getVectors(X_test,vectors,vocab_size)

from keras.models import Sequential
from keras.layers import Dense
from keras import layers
from keras import regularizers

from sklearn.metrics import accuracy_score
from sklearn.metrics import confusion_matrix


cm = confusion_matrix(y_test,y_pred)
print(accuracy_score(y_test, y_pred))

y_pred = classifier.predict(X_test)

y_pred = np.argmax(y_pred,axis = 1)
y_test = np.argmax(y_test,axis = 1)
